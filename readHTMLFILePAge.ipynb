url="https://engineering.careers360.com/articles/gate-paper-analysis-cs-the-gate-academy"
data=pd.read_html(url)
print(data)
